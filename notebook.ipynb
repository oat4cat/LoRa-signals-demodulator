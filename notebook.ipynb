{
  "cells": [
    {
      "cell_type": "code",
      "execution_count": 1,
      "metadata": {
        "id": "f60trpnirm4l"
      },
      "outputs": [],
      "source": [
        "import os\n",
        "import numpy as np\n",
        "import torch\n",
        "import torch.nn as nn\n",
        "import torch.optim as optim\n",
        "from torch.utils.data import Dataset, DataLoader, random_split\n",
        "import librosa\n",
        "from sklearn.preprocessing import StandardScaler\n",
        "from sklearn.metrics import mean_absolute_error, r2_score\n",
        "import matplotlib.pyplot as plt\n",
        "from tqdm import tqdm"
      ]
    },
    {
      "cell_type": "code",
      "execution_count": null,
      "metadata": {
        "id": "tLCUhKD1rrOP"
      },
      "outputs": [],
      "source": [
        "import os\n",
        "import random\n",
        "import numpy as np\n",
        "import torch\n",
        "import torchaudio\n",
        "from torch.utils.data import Dataset\n",
        "from tqdm import tqdm\n",
        "from sklearn.preprocessing import StandardScaler\n",
        "\n",
        "class AudioDataset(Dataset):\n",
        "    def __init__(self, wav_folder, txt_folder, use_spectrogram=False, \n",
        "                 fit_scaler=False, sample_size=None, random_seed=42, \n",
        "                 target_length=1024):\n",
        "        \"\"\"\n",
        "        Args:\n",
        "            wav_folder: Путь к папке с .wav файлами\n",
        "            txt_folder: Путь к папке с .txt метками\n",
        "            use_spectrogram: Использовать спектрограммы (иначе FFT)\n",
        "            fit_scaler: Обучить StandardScaler на метках\n",
        "            sample_size: Количество случайных файлов для загрузки (None = все)\n",
        "            random_seed: Seed для воспроизводимости\n",
        "            target_length: Фиксированная длина для спектрограмм\n",
        "        \"\"\"\n",
        "        self.wav_folder = wav_folder\n",
        "        self.txt_folder = txt_folder\n",
        "        self.use_spectrogram = use_spectrogram\n",
        "        self.target_length = target_length\n",
        "        self.fit_scaler = fit_scaler\n",
        "        self.scaler = None\n",
        "\n",
        "        # Получаем список пар файлов\n",
        "        all_wavs = sorted([f for f in os.listdir(wav_folder) if f.endswith('.wav')])\n",
        "        self.file_pairs = []\n",
        "        \n",
        "        for wav_file in all_wavs:\n",
        "            txt_file = wav_file.replace('.wav', '.txt')\n",
        "            if os.path.exists(os.path.join(txt_folder, txt_file)):\n",
        "                self.file_pairs.append((wav_file, txt_file))\n",
        "\n",
        "        # Выбираем подвыборку если нужно\n",
        "        if sample_size and sample_size < len(self.file_pairs):\n",
        "            random.seed(random_seed)\n",
        "            self.file_pairs = random.sample(self.file_pairs, sample_size)\n",
        "\n",
        "        # Инициализация трансформов\n",
        "        if use_spectrogram:\n",
        "            self.spectrogram_transform = torchaudio.transforms.Spectrogram(\n",
        "                n_fft=1024,\n",
        "                hop_length=512,\n",
        "                power=2\n",
        "            )\n",
        "\n",
        "        # Обучение scaler если нужно\n",
        "        if fit_scaler:\n",
        "            self._fit_scaler()\n",
        "\n",
        "    def _fit_scaler(self):\n",
        "        \"\"\"Предварительная загрузка меток для обучения scaler\"\"\"\n",
        "        all_targets = []\n",
        "        for _, txt_file in tqdm(self.file_pairs, desc=\"Fitting scaler\"):\n",
        "            target = np.loadtxt(os.path.join(self.txt_folder, txt_file), dtype=np.float32)\n",
        "            if len(target) < 44:\n",
        "                target = np.pad(target, (0, 44 - len(target)), mode='constant')\n",
        "            all_targets.append(target)\n",
        "        \n",
        "        self.scaler = StandardScaler()\n",
        "        self.scaler.fit(all_targets)\n",
        "\n",
        "    def _load_and_process(self, wav_path, txt_path):\n",
        "        \"\"\"Загрузка и обработка одного файла\"\"\"\n",
        "        # Загрузка аудио\n",
        "        sample_rate, data = torchaudio.load(wav_path)\n",
        "        if data.ndim > 1:\n",
        "            data = data.mean(dim=0)  # Стерео -> моно\n",
        "        \n",
        "        # Загрузка метки\n",
        "        target = np.loadtxt(txt_path, dtype=np.float32)\n",
        "        if len(target) < 44:\n",
        "            target = np.pad(target, (0, 44 - len(target)), mode='constant')\n",
        "        \n",
        "        # Нормализация метки\n",
        "        if self.scaler:\n",
        "            target = self.scaler.transform(target.reshape(1, -1)).squeeze()\n",
        "        \n",
        "        # Преобразование в фичи\n",
        "        if self.use_spectrogram:\n",
        "            spec = self.spectrogram_transform(data.unsqueeze(0))\n",
        "            spec = spec.log2().clamp(min=-10)\n",
        "            spec = (spec - spec.mean()) / (spec.std() + 1e-6)  # Нормализация\n",
        "            \n",
        "            # Фиксированная длина\n",
        "            if spec.shape[2] > self.target_length:\n",
        "                spec = spec[:, :, :self.target_length]\n",
        "            else:\n",
        "                pad = self.target_length - spec.shape[2]\n",
        "                spec = torch.nn.functional.pad(spec, (0, pad), value=-10)\n",
        "            \n",
        "            features = spec.squeeze(0)  # [1, freq, time] -> [freq, time]\n",
        "        else:\n",
        "            N = len(data)\n",
        "            fft_data = torch.fft.fft(torch.from_numpy(data).float())\n",
        "            fft_magnitude = torch.abs(fft_data[:N//2]) / N\n",
        "            features = fft_magnitude.unsqueeze(0)  # [1, N//2]\n",
        "        \n",
        "        return features, torch.from_numpy(target)\n",
        "\n",
        "    def __len__(self):\n",
        "        return len(self.file_pairs)\n",
        "\n",
        "    def __getitem__(self, idx):\n",
        "        wav_file, txt_file = self.file_pairs[idx]\n",
        "        wav_path = os.path.join(self.wav_folder, wav_file)\n",
        "        txt_path = os.path.join(self.txt_folder, txt_file)\n",
        "        \n",
        "        return self._load_and_process(wav_path, txt_path)"
      ]
    },
    {
      "cell_type": "markdown",
      "metadata": {},
      "source": [
        "модель цнн + трансформер"
      ]
    },
    {
      "cell_type": "code",
      "execution_count": 3,
      "metadata": {
        "id": "tmRXJoKxruBP"
      },
      "outputs": [],
      "source": [
        "# === Модель ===\n",
        "class AudioRegressor(nn.Module):\n",
        "    def __init__(self):\n",
        "        super().__init__()\n",
        "        self.cnn = nn.Sequential(\n",
        "            nn.Conv2d(1, 32, 3, padding=1),\n",
        "            nn.ReLU(),\n",
        "            nn.MaxPool2d(2),\n",
        "            nn.Conv2d(32, 64, 3, padding=1),\n",
        "            nn.ReLU(),\n",
        "            nn.MaxPool2d(2),\n",
        "            nn.Conv2d(64, 128, 3, padding=1),\n",
        "            nn.ReLU(),\n",
        "            nn.AdaptiveAvgPool2d((1, None))\n",
        "        )\n",
        "        self.transformer = nn.TransformerEncoder(\n",
        "            nn.TransformerEncoderLayer(d_model=128, nhead=8, batch_first=True),\n",
        "            num_layers=3\n",
        "        )\n",
        "        self.fc = nn.Linear(128, 44)\n",
        "\n",
        "    def forward(self, x):\n",
        "        x = self.cnn(x)     # [B, 128, 1, T]\n",
        "        x = x.squeeze(2)    # [B, 128, T]\n",
        "        x = x.permute(0,2,1)  # [B, T, 128] для batch_first\n",
        "        x = self.transformer(x)\n",
        "        x = x.mean(dim=1)   # [B, 128]\n",
        "        out = self.fc(x)\n",
        "        return out"
      ]
    },
    {
      "cell_type": "markdown",
      "metadata": {},
      "source": [
        "CNN"
      ]
    },
    {
      "cell_type": "code",
      "execution_count": null,
      "metadata": {},
      "outputs": [],
      "source": [
        "# === Модель ===\n",
        "class AudioRegressor_CNN(nn.Module):\n",
        "    def __init__(self):\n",
        "        super().__init__()\n",
        "        self.cnn = nn.Sequential(\n",
        "            nn.Conv2d(1, 32, 3, padding=1, stride=1),\n",
        "            nn.BatchNorm2d(32),\n",
        "            nn.ReLU(),\n",
        "            nn.MaxPool2d(2),\n",
        "\n",
        "            nn.Conv2d(32, 64, 3, padding=1, stride=1),\n",
        "            nn.BatchNorm2d(64),\n",
        "            nn.ReLU(),\n",
        "            nn.MaxPool2d(2),\n",
        "\n",
        "            nn.Conv2d(64, 128, 3, padding=1, stride=1),\n",
        "            nn.BatchNorm2d(128),\n",
        "            nn.ReLU(),\n",
        "            nn.AdaptiveAvgPool2d((1, 1))\n",
        "        )\n",
        "        self.fc = nn.Sequential(\n",
        "            nn.Dropout(0.3),\n",
        "            nn.Linear(128, 44)\n",
        "        )\n",
        "\n",
        "    def forward(self, x):\n",
        "        x = x.unsqueeze(1)  # (batch, 1, H, W)\n",
        "        x = self.cnn(x)     # [B, 128, 1, T]\n",
        "        x = x.view(x.size(0), -1)\n",
        "        out = self.fc(x)\n",
        "        return out"
      ]
    },
    {
      "cell_type": "code",
      "execution_count": null,
      "metadata": {},
      "outputs": [],
      "source": [
        "class AudioRegressor_1DCNN(nn.Module):\n",
        "    def __init__(self, input_length=346858, output_size=44):\n",
        "        super().__init__()\n",
        "        \n",
        "        self.main = nn.Sequential(\n",
        "            # Блок 1\n",
        "            nn.Conv1d(1, 32, kernel_size=5, stride=2, padding=2),\n",
        "            nn.Dropout(0.2),\n",
        "            nn.BatchNorm1d(32),\n",
        "            nn.ReLU(),\n",
        "            nn.MaxPool1d(2),\n",
        "            \n",
        "            # Блок 2\n",
        "            nn.Conv1d(32, 64, kernel_size=5, stride=2, padding=2),\n",
        "            nn.Dropout(0.2),\n",
        "            nn.BatchNorm1d(64),\n",
        "            nn.ReLU(),\n",
        "            nn.MaxPool1d(2),\n",
        "            \n",
        "            # Блок 3\n",
        "            nn.Conv1d(64, 128, kernel_size=5, stride=2, padding=2),\n",
        "            nn.Dropout(0.2),\n",
        "            nn.BatchNorm1d(128),\n",
        "            nn.ReLU(),\n",
        "            nn.AdaptiveAvgPool1d(1)\n",
        "        )\n",
        "        \n",
        "        # Автоматический расчет размера после сверток\n",
        "        with torch.no_grad():\n",
        "            x = torch.randn(1, 1, input_length)\n",
        "            x = self.main(x)\n",
        "            flat_size = x.view(1, -1).size(1)\n",
        "        \n",
        "        self.fc = nn.Sequential(\n",
        "            nn.Linear(flat_size, 256),\n",
        "            nn.ReLU(),\n",
        "            nn.Dropout(0.3),\n",
        "            nn.Linear(256, output_size)\n",
        "        )\n",
        "    \n",
        "    def forward(self, x):\n",
        "        # x shape: [batch, 1, 346858]\n",
        "        x = self.main(x)\n",
        "        x = x.view(x.size(0), -1)\n",
        "        return self.fc(x)"
      ]
    },
    {
      "cell_type": "code",
      "execution_count": null,
      "metadata": {},
      "outputs": [],
      "source": [
        "class CNN2D(nn.Module):\n",
        "    def __init__(self, output_size):\n",
        "        super(CNN2D, self).__init__()\n",
        "        self.conv = nn.Sequential(\n",
        "            nn.Conv2d(1, 16, kernel_size=3, stride=2),\n",
        "            nn.ReLU(),\n",
        "            nn.Conv2d(16, 32, kernel_size=3, stride=2),\n",
        "            nn.ReLU(),\n",
        "            nn.AdaptiveAvgPool2d((4, 4))\n",
        "        )\n",
        "        self.fc = nn.Linear(32 * 4 * 4, output_size)\n",
        "\n",
        "    def forward(self, x):\n",
        "        x = x.unsqueeze(1)  # (batch, 1, H, W)\n",
        "        x = self.conv(x)\n",
        "        x = x.view(x.size(0), -1)\n",
        "        return self.fc(x)"
      ]
    },
    {
      "cell_type": "code",
      "execution_count": null,
      "metadata": {},
      "outputs": [],
      "source": [
        "class LSTMModel(nn.Module):\n",
        "    def __init__(self, input_size, hidden_size, output_size):\n",
        "        super(LSTMModel, self).__init__()\n",
        "        \n",
        "        # LSTM для каждой частотной компоненты\n",
        "        self.lstm = nn.LSTM(\n",
        "            input_size=input_size,\n",
        "            hidden_size=hidden_size,\n",
        "            batch_first=True,\n",
        "            num_layers=1,\n",
        "            dropout=0.3\n",
        "        )\n",
        "        \n",
        "        # Полносвязный слой\n",
        "        self.fc = nn.Linear(hidden_size, output_size)\n",
        "    \n",
        "    def forward(self, x):\n",
        "        # x shape: [batch, 1, freq_bins]\n",
        "        x = x.squeeze(1)  # [batch, freq_bins]\n",
        "        \n",
        "        # Обрабатываем каждую частоту отдельно\n",
        "        batch_size, freq_bins = x.size()\n",
        "        \n",
        "        # LSTM\n",
        "        lstm_out, _ = self.lstm(x)  # [batch, time_steps, hidden_size]\n",
        "        \n",
        "        # Объединяем все частотные компоненты\n",
        "        out = lstm_out.reshape(batch_size, -1)\n",
        "        \n",
        "        return self.fc(out)"
      ]
    },
    {
      "cell_type": "code",
      "execution_count": null,
      "metadata": {},
      "outputs": [],
      "source": [
        "# === Константы ===\n",
        "DEVICE = torch.device('cuda' if torch.cuda.is_available() else 'cpu')\n",
        "BATCH_SIZE = 32\n",
        "EPOCHS = 10\n",
        "LEARNING_RATE = 1e-3\n",
        "\n",
        "WAV_DIR = \"data/wav\"\n",
        "TXT_DIR = \"data/txt\"\n",
        "print(DEVICE)"
      ]
    },
    {
      "cell_type": "code",
      "execution_count": null,
      "metadata": {
        "colab": {
          "base_uri": "https://localhost:8080/"
        },
        "id": "wfMYGM_5rv-l",
        "outputId": "02606a03-030e-4612-e559-36b1c396960b"
      },
      "outputs": [
        {
          "name": "stderr",
          "output_type": "stream",
          "text": [
            "Loading data:  16%|█▌        | 608/3868 [00:07<00:16, 194.51it/s]c:\\Users\\Людмила\\Documents\\samsung project\\.venv\\lib\\site-packages\\librosa\\core\\spectrum.py:266: UserWarning: n_fft=1024 is too large for input signal of length=844\n",
            "  warnings.warn(\n",
            "Loading data: 100%|██████████| 3868/3868 [00:48<00:00, 79.08it/s] \n"
          ]
        }
      ],
      "source": [
        "# === Загрузка данных ===\n",
        "# 1. Создаем общий датасет и подгоняем скейлер\n",
        "full_dataset = AudioDataset(WAV_DIR, TXT_DIR, fit_scaler=True, sample_size=2000)\n",
        "scaler = full_dataset.scaler\n",
        "\n",
        "# 2. Разделяем train/test\n",
        "train_size = int(0.8 * len(full_dataset))\n",
        "val_size = len(full_dataset) - train_size\n",
        "train_dataset, val_dataset = random_split(full_dataset, [train_size, val_size])\n",
        "\n",
        "train_loader = DataLoader(train_dataset, batch_size=BATCH_SIZE, shuffle=True)\n",
        "val_loader = DataLoader(val_dataset, batch_size=BATCH_SIZE)"
      ]
    },
    {
      "cell_type": "code",
      "execution_count": 6,
      "metadata": {},
      "outputs": [
        {
          "data": {
            "text/plain": [
              "(3868, 1, 513, 900)"
            ]
          },
          "execution_count": 6,
          "metadata": {},
          "output_type": "execute_result"
        }
      ],
      "source": [
        "full_dataset.data.shape"
      ]
    },
    {
      "cell_type": "code",
      "execution_count": null,
      "metadata": {},
      "outputs": [],
      "source": [
        "sample_x, sample_y = next(iter(train_loader))\n",
        "print(\"Input shape:\", sample_x.shape)  # Должно быть [batch, channels, freq, time]\n",
        "print(\"Target shape:\", sample_y.shape)"
      ]
    },
    {
      "cell_type": "code",
      "execution_count": null,
      "metadata": {},
      "outputs": [],
      "source": [
        "# === Обучение ===\n",
        "# model = LSTMModel(input_size=sample_x.shape[2], hidden_size=256, output_size=sample_y.shape[1])\n",
        "# model = AudioRegressor_1DCNN(input_length=sample_x.shape[2], output_size=sample_y.shape[1])\n",
        "model = AudioRegressor()"
      ]
    },
    {
      "cell_type": "code",
      "execution_count": null,
      "metadata": {
        "colab": {
          "base_uri": "https://localhost:8080/"
        },
        "id": "lI9s_DHlrxS-",
        "outputId": "b9436663-2197-48d4-9dc3-0a7a066bc868"
      },
      "outputs": [
        {
          "name": "stdout",
          "output_type": "stream",
          "text": [
            "New best model! Val Loss: 1.0590\n",
            "[Epoch 1] Train Loss: 0.6333 | Val Loss: 1.0590 | MAE: 111.6221 | R²: 0.2867\n",
            "No improvement for 1/3 epochs\n",
            "[Epoch 2] Train Loss: 0.6002 | Val Loss: 1.2930 | MAE: 1324.0298 | R²: -0.0018\n",
            "New best model! Val Loss: 1.0503\n",
            "[Epoch 3] Train Loss: 0.6998 | Val Loss: 1.0503 | MAE: 275.8149 | R²: 0.2949\n",
            "No improvement for 1/3 epochs\n",
            "[Epoch 4] Train Loss: 0.6519 | Val Loss: 1.2943 | MAE: 635.4542 | R²: 0.0627\n",
            "New best model! Val Loss: 1.0396\n",
            "[Epoch 5] Train Loss: 0.6417 | Val Loss: 1.0396 | MAE: 136.6718 | R²: 0.3333\n",
            "No improvement for 1/3 epochs\n",
            "[Epoch 6] Train Loss: 0.5601 | Val Loss: 1.0447 | MAE: 263.8145 | R²: 0.3321\n",
            "No improvement for 2/3 epochs\n",
            "[Epoch 7] Train Loss: 0.5595 | Val Loss: 1.0421 | MAE: 937.3510 | R²: 0.1318\n",
            "No improvement for 3/3 epochs\n",
            "Early stopping at epoch 8\n"
          ]
        }
      ],
      "source": [
        "# Для ранней остановки\n",
        "def train(model, train_loader, val_loader, model_name, scaler=None, lr=LEARNING_RATE, EPOCHS=10):\n",
        "    best_val_loss = float('inf')\n",
        "    patience = 3\n",
        "    no_improve = 0\n",
        "    best_model_weights = None\n",
        "\n",
        "    device = torch.device('cuda' if torch.cuda.is_available() else 'cpu')\n",
        "    model = model.to(device)\n",
        "    optimizer = optim.Adam(model.parameters(), lr=lr)\n",
        "    criterion = nn.MSELoss()\n",
        "\n",
        "\n",
        "    train_losses = []\n",
        "    val_losses = []\n",
        "    mae_scores = []\n",
        "    r2_scores = []\n",
        "\n",
        "    for epoch in range(EPOCHS):\n",
        "        model.train()\n",
        "        epoch_train_loss = 0\n",
        "        for xb, yb in train_loader:\n",
        "            xb, yb = xb.to(device).float(), yb.to(device).float()\n",
        "            preds = model(xb)\n",
        "\n",
        "            loss = criterion(preds, yb)\n",
        "            optimizer.zero_grad()\n",
        "            loss.backward()\n",
        "            optimizer.step()\n",
        "\n",
        "            epoch_train_loss += loss.item()\n",
        "\n",
        "        epoch_train_loss /= len(train_loader)\n",
        "        train_losses.append(epoch_train_loss)\n",
        "\n",
        "        # Validation\n",
        "        model.eval()\n",
        "        val_loss = 0\n",
        "        all_preds = []\n",
        "        all_targets = []\n",
        "        with torch.no_grad():\n",
        "            for xb, yb in val_loader:\n",
        "                xb, yb = xb.to(device), yb.to(device)\n",
        "                preds = model(xb)\n",
        "\n",
        "                loss = criterion(preds, yb)\n",
        "                val_loss += loss.item()\n",
        "\n",
        "                all_preds.append(preds.squeeze(1).cpu().numpy())\n",
        "                all_targets.append(yb.squeeze(1).cpu().numpy())\n",
        "\n",
        "        val_loss /= len(val_loader)\n",
        "        val_losses.append(val_loss)\n",
        "\n",
        "        if val_loss < best_val_loss:\n",
        "            best_val_loss = val_loss\n",
        "            no_improve = 0\n",
        "            best_model_weights = model.state_dict().copy()  # Сохраняем веса\n",
        "            torch.save(model.state_dict(), model_name + '.pth')  # Сохраняем модель\n",
        "            torch.save(model, model_name + '.pt')  # Сохраняем модель\n",
        "            print(f\"New best model! Val Loss: {val_loss:.4f}\")\n",
        "        else:\n",
        "            no_improve += 1\n",
        "            print(f\"No improvement for {no_improve}/{patience} epochs\")\n",
        "            if no_improve >= patience:\n",
        "                print(f\"Early stopping at epoch {epoch+1}\")\n",
        "                model.load_state_dict(best_model_weights)  # Восстанавливаем лучшие веса\n",
        "                break\n",
        "\n",
        "        all_preds = np.concatenate(all_preds, axis=0)\n",
        "        all_targets = np.concatenate(all_targets, axis=0)\n",
        "\n",
        "        # ДЕНОРМАЛИЗАЦИЯ\n",
        "        if scaler:\n",
        "            all_preds = scaler.inverse_transform(all_preds)\n",
        "            all_targets = scaler.inverse_transform(all_targets)\n",
        "\n",
        "        mae = mean_absolute_error(all_targets, all_preds)\n",
        "        r2 = r2_score(all_targets, all_preds)\n",
        "\n",
        "        mae_scores.append(mae)\n",
        "        r2_scores.append(r2)\n",
        "\n",
        "        print(f\"[Epoch {epoch+1}] Train Loss: {epoch_train_loss:.4f} | Val Loss: {val_loss:.4f} | MAE: {mae:.4f} | R²: {r2:.4f}\")\n",
        "\n",
        "    with open(model_name + '_architecture.json', 'w') as f:\n",
        "        f.write(str(model))\n",
        "        \n",
        "    return train_losses, val_losses, mae_scores, r2_scores"
      ]
    },
    {
      "cell_type": "code",
      "execution_count": null,
      "metadata": {},
      "outputs": [],
      "source": [
        "train_losses, val_losses, mae_scores, r2_scores = train(model, train_loader, val_loader, 'CNNTransformerScaler')"
      ]
    },
    {
      "cell_type": "code",
      "execution_count": 9,
      "metadata": {
        "id": "9PGmDGkag-2M"
      },
      "outputs": [
        {
          "data": {
            "image/png": "[encoded data removed]",
            "text/plain": [
              "<Figure size 1200x500 with 2 Axes>"
            ]
          },
          "metadata": {},
          "output_type": "display_data"
        },
        {
          "data": {
            "image/png": "[encoded data removed]",
            "text/plain": [
              "<Figure size 640x480 with 1 Axes>"
            ]
          },
          "metadata": {},
          "output_type": "display_data"
        }
      ],
      "source": [
        "# === Графики ===\n",
        "plt.figure(figsize=(12,5))\n",
        "plt.subplot(1,2,1)\n",
        "plt.plot(train_losses, label='Train Loss')\n",
        "plt.plot(val_losses, label='Val Loss')\n",
        "plt.legend()\n",
        "plt.title(\"Loss\")\n",
        "\n",
        "plt.subplot(1,2,2)\n",
        "plt.plot(mae_scores, label='MAE')\n",
        "plt.legend()\n",
        "plt.title(\"Metrics\")\n",
        "plt.show()\n",
        "\n",
        "\n",
        "plt.plot(r2_scores, label='R²')\n",
        "plt.legend()\n",
        "plt.title(\"Metrics\")\n",
        "plt.show()"
      ]
    }
  ],
  "metadata": {
    "colab": {
      "provenance": []
    },
    "kernelspec": {
      "display_name": ".venv",
      "language": "python",
      "name": "python3"
    },
    "language_info": {
      "codemirror_mode": {
        "name": "ipython",
        "version": 3
      },
      "file_extension": ".py",
      "mimetype": "text/x-python",
      "name": "python",
      "nbconvert_exporter": "python",
      "pygments_lexer": "ipython3",
      "version": "3.10.11"
    }
  },
  "nbformat": 4,
  "nbformat_minor": 0
}
